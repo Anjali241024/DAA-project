{
 "cells": [
  {
   "cell_type": "code",
   "execution_count": null,
   "id": "352e95e3-9c79-496d-9182-b352578b17c3",
   "metadata": {},
   "outputs": [],
   "source": []
  },
  {
   "cell_type": "code",
   "execution_count": 1,
   "id": "8cf1a836-c77f-4d01-9991-0eb47f6a526c",
   "metadata": {},
   "outputs": [
    {
     "name": "stdout",
     "output_type": "stream",
     "text": [
      "\n",
      "===== Smart Cargo Loading System =====\n",
      "1. Add an item\n",
      "2. View item list\n",
      "3. Set truck capacity\n",
      "4. Calculate max cargo value\n",
      "5. Exit\n"
     ]
    },
    {
     "name": "stdin",
     "output_type": "stream",
     "text": [
      "Enter your choice:  1\n",
      "Item name:  CAOL\n",
      "Weight (kg):  50\n",
      "Value ($):  3000\n"
     ]
    },
    {
     "name": "stdout",
     "output_type": "stream",
     "text": [
      "Item added successfully!\n",
      "\n",
      "===== Smart Cargo Loading System =====\n",
      "1. Add an item\n",
      "2. View item list\n",
      "3. Set truck capacity\n",
      "4. Calculate max cargo value\n",
      "5. Exit\n"
     ]
    },
    {
     "name": "stdin",
     "output_type": "stream",
     "text": [
      "Enter your choice:  1\n",
      "Item name:  Chemicals\n",
      "Weight (kg):  100\n",
      "Value ($):  6300\n"
     ]
    },
    {
     "name": "stdout",
     "output_type": "stream",
     "text": [
      "Item added successfully!\n",
      "\n",
      "===== Smart Cargo Loading System =====\n",
      "1. Add an item\n",
      "2. View item list\n",
      "3. Set truck capacity\n",
      "4. Calculate max cargo value\n",
      "5. Exit\n"
     ]
    },
    {
     "name": "stdin",
     "output_type": "stream",
     "text": [
      "Enter your choice:  1\n",
      "Item name:  OIL\n",
      "Weight (kg):  200\n",
      "Value ($):  6000\n"
     ]
    },
    {
     "name": "stdout",
     "output_type": "stream",
     "text": [
      "Item added successfully!\n",
      "\n",
      "===== Smart Cargo Loading System =====\n",
      "1. Add an item\n",
      "2. View item list\n",
      "3. Set truck capacity\n",
      "4. Calculate max cargo value\n",
      "5. Exit\n"
     ]
    },
    {
     "name": "stdin",
     "output_type": "stream",
     "text": [
      "Enter your choice:  2\n"
     ]
    },
    {
     "name": "stdout",
     "output_type": "stream",
     "text": [
      "\n",
      "Item List:\n",
      "CAOL: 50.0kg, $3000.0, $60.00/kg\n",
      "Chemicals: 100.0kg, $6300.0, $63.00/kg\n",
      "OIL: 200.0kg, $6000.0, $30.00/kg\n",
      "\n",
      "===== Smart Cargo Loading System =====\n",
      "1. Add an item\n",
      "2. View item list\n",
      "3. Set truck capacity\n",
      "4. Calculate max cargo value\n",
      "5. Exit\n"
     ]
    },
    {
     "name": "stdin",
     "output_type": "stream",
     "text": [
      "Enter your choice:  3\n",
      "Enter truck capacity (kg):  150\n"
     ]
    },
    {
     "name": "stdout",
     "output_type": "stream",
     "text": [
      "Capacity updated.\n",
      "\n",
      "===== Smart Cargo Loading System =====\n",
      "1. Add an item\n",
      "2. View item list\n",
      "3. Set truck capacity\n",
      "4. Calculate max cargo value\n",
      "5. Exit\n"
     ]
    },
    {
     "name": "stdin",
     "output_type": "stream",
     "text": [
      "Enter your choice:  4\n"
     ]
    },
    {
     "name": "stdout",
     "output_type": "stream",
     "text": [
      "\n",
      "Maximum revenue from cargo: $9300.00\n",
      "Remaining truck capacity: 0.00 kg\n",
      "Items in knapsack:\n",
      "Chemicals: 100.00 kg ($6300.00, taken 100%)\n",
      "CAOL: 50.00 kg ($3000.00, taken 100%)\n",
      "OIL: 0.00 kg ($0.00, taken 0.0%)\n",
      "\n",
      "===== Smart Cargo Loading System =====\n",
      "1. Add an item\n",
      "2. View item list\n",
      "3. Set truck capacity\n",
      "4. Calculate max cargo value\n",
      "5. Exit\n"
     ]
    },
    {
     "name": "stdin",
     "output_type": "stream",
     "text": [
      "Enter your choice:  180\n"
     ]
    },
    {
     "name": "stdout",
     "output_type": "stream",
     "text": [
      "Invalid choice. Try again.\n",
      "\n",
      "===== Smart Cargo Loading System =====\n",
      "1. Add an item\n",
      "2. View item list\n",
      "3. Set truck capacity\n",
      "4. Calculate max cargo value\n",
      "5. Exit\n"
     ]
    },
    {
     "name": "stdin",
     "output_type": "stream",
     "text": [
      "Enter your choice:  3\n",
      "Enter truck capacity (kg):  170\n"
     ]
    },
    {
     "name": "stdout",
     "output_type": "stream",
     "text": [
      "Capacity updated.\n",
      "\n",
      "===== Smart Cargo Loading System =====\n",
      "1. Add an item\n",
      "2. View item list\n",
      "3. Set truck capacity\n",
      "4. Calculate max cargo value\n",
      "5. Exit\n"
     ]
    },
    {
     "name": "stdin",
     "output_type": "stream",
     "text": [
      "Enter your choice:  4\n"
     ]
    },
    {
     "name": "stdout",
     "output_type": "stream",
     "text": [
      "\n",
      "Maximum revenue from cargo: $9900.00\n",
      "Remaining truck capacity: 20.00 kg\n",
      "Items in knapsack:\n",
      "Chemicals: 100.00 kg ($6300.00, taken 100%)\n",
      "CAOL: 50.00 kg ($3000.00, taken 100%)\n",
      "OIL: 20.00 kg ($600.00, taken 10.0%)\n",
      "\n",
      "===== Smart Cargo Loading System =====\n",
      "1. Add an item\n",
      "2. View item list\n",
      "3. Set truck capacity\n",
      "4. Calculate max cargo value\n",
      "5. Exit\n"
     ]
    },
    {
     "name": "stdin",
     "output_type": "stream",
     "text": [
      "Enter your choice:  5\n"
     ]
    },
    {
     "name": "stdout",
     "output_type": "stream",
     "text": [
      "Exiting... 🚚\n"
     ]
    }
   ],
   "source": [
    "class Item:\n",
    "    def __init__(self, name, weight, value):\n",
    "        self.name = name\n",
    "        self.weight = weight\n",
    "        self.value = value\n",
    "        self.ratio = value / weight\n",
    "\n",
    "    def __str__(self):\n",
    "        return f\"{self.name}: {self.weight}kg, ${self.value}, ${self.ratio:.2f}/kg\"\n",
    "\n",
    "\n",
    "def sort_items_by_ratio(items):\n",
    "    # Sorting items based on value per kg in descending order (simple bubble sort)\n",
    "    for i in range(len(items)):\n",
    "        for j in range(i + 1, len(items)):\n",
    "            if items[i].ratio < items[j].ratio:\n",
    "                items[i], items[j] = items[j], items[i]\n",
    "\n",
    "\n",
    "def fractional_knapsack(items, capacity):\n",
    "    sort_items_by_ratio(items)\n",
    "    total_value = 0\n",
    "    knapsack_items = []\n",
    "\n",
    "    for item in items:\n",
    "        if capacity >= item.weight:\n",
    "            capacity -= item.weight\n",
    "            total_value += item.value\n",
    "            knapsack_items.append((item.name, item.weight, item.value, 1.0))\n",
    "        else:\n",
    "            fraction = capacity / item.weight\n",
    "            total_value += item.ratio * capacity\n",
    "            knapsack_items.append((item.name, capacity, item.ratio * capacity, fraction))\n",
    "            break\n",
    "\n",
    "    return total_value, knapsack_items, capacity\n",
    "\n",
    "\n",
    "# ----- INTERACTIVE MENU -----\n",
    "items = []\n",
    "truck_capacity = 0\n",
    "\n",
    "while True:\n",
    "    print(\"\\n===== Smart Cargo Loading System =====\")\n",
    "    print(\"1. Add an item\")\n",
    "    print(\"2. View item list\")\n",
    "    print(\"3. Set truck capacity\")\n",
    "    print(\"4. Calculate max cargo value\")\n",
    "    print(\"5. Exit\")\n",
    "\n",
    "    choice = input(\"Enter your choice: \")\n",
    "\n",
    "    if choice == '1':\n",
    "        name = input(\"Item name: \")\n",
    "        try:\n",
    "            weight = float(input(\"Weight (kg): \"))\n",
    "            value = float(input(\"Value ($): \"))\n",
    "            items.append(Item(name, weight, value))\n",
    "            print(\"Item added successfully!\")\n",
    "        except ValueError:\n",
    "            print(\"Invalid input. Please enter numeric values for weight and value.\")\n",
    "\n",
    "    elif choice == '2':\n",
    "        if not items:\n",
    "            print(\"No items added yet.\")\n",
    "        else:\n",
    "            print(\"\\nItem List:\")\n",
    "            for item in items:\n",
    "                print(item)\n",
    "\n",
    "    elif choice == '3':\n",
    "        try:\n",
    "            truck_capacity = float(input(\"Enter truck capacity (kg): \"))\n",
    "            print(\"Capacity updated.\")\n",
    "        except ValueError:\n",
    "            print(\"Please enter a valid number.\")\n",
    "\n",
    "    elif choice == '4':\n",
    "        if not items:\n",
    "            print(\"No items to load.\")\n",
    "        elif truck_capacity <= 0:\n",
    "            print(\"Set a valid truck capacity first.\")\n",
    "        else:\n",
    "            max_profit, knapsack_items, remaining = fractional_knapsack(items, truck_capacity)\n",
    "            print(f\"\\nMaximum revenue from cargo: ${max_profit:.2f}\")\n",
    "            print(f\"Remaining truck capacity: {remaining:.2f} kg\")\n",
    "            print(\"Items in knapsack:\")\n",
    "            for name, weight, value, fraction in knapsack_items:\n",
    "                pct = \"100%\" if fraction == 1.0 else f\"{fraction*100:.1f}%\"\n",
    "                print(f\"{name}: {weight:.2f} kg (${value:.2f}, taken {pct})\")\n",
    "\n",
    "    elif choice == '5':\n",
    "        print(\"Exiting... 🚚\")\n",
    "        break\n",
    "    else:\n",
    "        print(\"Invalid choice. Try again.\")\n"
   ]
  },
  {
   "cell_type": "code",
   "execution_count": null,
   "id": "e7d08768-5a99-48b3-88fd-ee7de5d525c0",
   "metadata": {},
   "outputs": [],
   "source": []
  }
 ],
 "metadata": {
  "kernelspec": {
   "display_name": "Python 3 (ipykernel)",
   "language": "python",
   "name": "python3"
  },
  "language_info": {
   "codemirror_mode": {
    "name": "ipython",
    "version": 3
   },
   "file_extension": ".py",
   "mimetype": "text/x-python",
   "name": "python",
   "nbconvert_exporter": "python",
   "pygments_lexer": "ipython3",
   "version": "3.12.4"
  }
 },
 "nbformat": 4,
 "nbformat_minor": 5
}
