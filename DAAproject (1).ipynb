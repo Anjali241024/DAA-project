{
 "cells": [
  {
   "cell_type": "code",
   "execution_count": 1,
   "id": "352e95e3-9c79-496d-9182-b352578b17c3",
   "metadata": {},
   "outputs": [
    {
     "name": "stdin",
     "output_type": "stream",
     "text": [
      "Enter number of items:  3\n",
      "Enter name of item 1:  GOLD\n",
      "Enter weight of GOLD:  30\n",
      "Enter value of GOLD:  70\n",
      "Enter name of item 2:  Coal\n",
      "Enter weight of Coal:  100\n",
      "Enter value of Coal:  200\n",
      "Enter name of item 3:  Chemicals\n",
      "Enter weight of Chemicals:  10\n",
      "Enter value of Chemicals:  80\n",
      "Enter truck capacity:  70\n"
     ]
    },
    {
     "name": "stdout",
     "output_type": "stream",
     "text": [
      "\n",
      "Maximum revenue from cargo: $210.0\n",
      "Items in knapsack:\n",
      "Chemicals: 10.0 kg\n",
      "GOLD: 30.0 kg\n",
      "Coal: 30.0 kg\n"
     ]
    }
   ],
   "source": [
    "#   Smart Cargo Loading System\n",
    "class Item:\n",
    "    def __init__(self, name, weight, value):\n",
    "        self.name = name\n",
    "        self.weight = weight\n",
    "        self.value = value\n",
    "        self.ratio = value / weight  # Value per kg\n",
    "\n",
    "def sort_items_by_ratio(items):\n",
    "    # Sorting items based on value per kg in descending order (simple bubble sort)\n",
    "    for i in range(len(items)):\n",
    "        for j in range(i + 1, len(items)):\n",
    "            if items[i].ratio < items[j].ratio:\n",
    "                items[i], items[j] = items[j], items[i]\n",
    "\n",
    "def fractional_knapsack(items, capacity):\n",
    "    # Sort items by value per kg\n",
    "    sort_items_by_ratio(items)\n",
    "\n",
    "    total_value = 0  # Total value in the knapsack\n",
    "    knapsack_items = []\n",
    "    \n",
    "    for item in items:\n",
    "        if capacity >= item.weight:\n",
    "            # Take the full item\n",
    "            capacity -= item.weight\n",
    "            total_value += item.value\n",
    "            knapsack_items.append((item.name, item.weight))\n",
    "        else:\n",
    "            # Take fraction of the item\n",
    "            fraction = capacity / item.weight\n",
    "            total_value += item.ratio * capacity\n",
    "            knapsack_items.append((item.name, capacity))\n",
    "            break  # Knapsack is full\n",
    "\n",
    "    return total_value, knapsack_items\n",
    "\n",
    "# User Input\n",
    "n = int(input(\"Enter number of items: \"))\n",
    "items = []\n",
    "for i in range(n):\n",
    "    name = input(f\"Enter name of item {i+1}: \")\n",
    "    weight = float(input(f\"Enter weight of {name}: \"))\n",
    "    value = float(input(f\"Enter value of {name}: \"))\n",
    "    items.append(Item(name, weight, value))\n",
    "\n",
    "truck_capacity = float(input(\"Enter truck capacity: \"))\n",
    "max_profit, knapsack_items = fractional_knapsack(items, truck_capacity)\n",
    "\n",
    "print(f\"\\nMaximum revenue from cargo: ${max_profit}\")\n",
    "print(\"Items in knapsack:\")\n",
    "for item, weight in knapsack_items:\n",
    "    print(f\"{item}: {weight} kg\")"
   ]
  },
  {
   "cell_type": "code",
   "execution_count": null,
   "id": "8cf1a836-c77f-4d01-9991-0eb47f6a526c",
   "metadata": {},
   "outputs": [],
   "source": []
  }
 ],
 "metadata": {
  "kernelspec": {
   "display_name": "Python 3 (ipykernel)",
   "language": "python",
   "name": "python3"
  },
  "language_info": {
   "codemirror_mode": {
    "name": "ipython",
    "version": 3
   },
   "file_extension": ".py",
   "mimetype": "text/x-python",
   "name": "python",
   "nbconvert_exporter": "python",
   "pygments_lexer": "ipython3",
   "version": "3.12.4"
  }
 },
 "nbformat": 4,
 "nbformat_minor": 5
}
